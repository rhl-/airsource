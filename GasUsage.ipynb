{
 "cells": [
  {
   "cell_type": "code",
   "execution_count": 154,
   "metadata": {},
   "outputs": [],
   "source": [
    "import numpy as np\n",
    "import pandas as pd\n",
    "%matplotlib inline\n",
    "from matplotlib import pyplot as plt \n",
    "import psycopg2\n",
    "import sqlite3\n",
    "import os\n",
    "from datetime import datetime\n",
    "import statsmodels.api as sm"
   ]
  },
  {
   "cell_type": "code",
   "execution_count": 172,
   "metadata": {},
   "outputs": [],
   "source": [
    "gas_usage=pd.read_csv('/Users/rhl/Downloads/BillingData/gas.csv',skiprows=5)\n",
    "gas_usage['START_DATE']=pd.to_datetime(gas_usage['START DATE'])\n",
    "gas_usage['END_DATE']=pd.to_datetime(gas_usage['END DATE'])\n",
    "gas_usage['USAGE']=gas_usage['USAGE']\n",
    "gas_usage['COST']=gas_usage['COST'].str.replace('$','').str.replace(',','').astype(float)\n",
    "gas_usage = gas_usage[['USAGE', 'COST', 'START_DATE', 'END_DATE']]"
   ]
  },
  {
   "cell_type": "code",
   "execution_count": 173,
   "metadata": {},
   "outputs": [],
   "source": [
    "hdd = pd.read_csv('/Users/rhl/Downloads/hdd.csv',skiprows=6)\n",
    "hdd.columns = ['DATE','HDD','%EST']\n",
    "hdd['DATE']=pd.to_datetime(hdd['DATE'])\n",
    "del hdd['%EST']"
   ]
  },
  {
   "cell_type": "code",
   "execution_count": 174,
   "metadata": {},
   "outputs": [],
   "source": [
    "gas_usage['key']=1.0\n",
    "hdd['key']=1.0"
   ]
  },
  {
   "cell_type": "code",
   "execution_count": 175,
   "metadata": {},
   "outputs": [],
   "source": [
    "df = gas_usage.merge(hdd, on='key', how='outer').query('(START_DATE <= DATE)&(DATE<=END_DATE)').groupby(['USAGE', 'COST', 'START_DATE', 'END_DATE']).agg({'HDD':'sum'}).reset_index()\n",
    "df['DAYS_IN_PERIOD']=df['END_DATE']-df['START_DATE']\n",
    "df['MIDDLE_DATE']=df['START_DATE']+df['DAYS_IN_PERIOD']/2.0"
   ]
  },
  {
   "cell_type": "code",
   "execution_count": 176,
   "metadata": {},
   "outputs": [
    {
     "data": {
      "text/html": [
       "<div>\n",
       "<style scoped>\n",
       "    .dataframe tbody tr th:only-of-type {\n",
       "        vertical-align: middle;\n",
       "    }\n",
       "\n",
       "    .dataframe tbody tr th {\n",
       "        vertical-align: top;\n",
       "    }\n",
       "\n",
       "    .dataframe thead th {\n",
       "        text-align: right;\n",
       "    }\n",
       "</style>\n",
       "<table border=\"1\" class=\"dataframe\">\n",
       "  <thead>\n",
       "    <tr style=\"text-align: right;\">\n",
       "      <th></th>\n",
       "      <th>USAGE</th>\n",
       "      <th>COST</th>\n",
       "      <th>START_DATE</th>\n",
       "      <th>END_DATE</th>\n",
       "      <th>HDD</th>\n",
       "      <th>DAYS_IN_PERIOD</th>\n",
       "      <th>MIDDLE_DATE</th>\n",
       "    </tr>\n",
       "  </thead>\n",
       "  <tbody>\n",
       "    <tr>\n",
       "      <td>0</td>\n",
       "      <td>6.0</td>\n",
       "      <td>21.07</td>\n",
       "      <td>2018-09-15</td>\n",
       "      <td>2018-09-30</td>\n",
       "      <td>89.9</td>\n",
       "      <td>15 days</td>\n",
       "      <td>2018-09-22 12:00:00</td>\n",
       "    </tr>\n",
       "    <tr>\n",
       "      <td>1</td>\n",
       "      <td>8.0</td>\n",
       "      <td>34.55</td>\n",
       "      <td>2019-07-18</td>\n",
       "      <td>2019-08-15</td>\n",
       "      <td>22.0</td>\n",
       "      <td>28 days</td>\n",
       "      <td>2019-08-01 00:00:00</td>\n",
       "    </tr>\n",
       "    <tr>\n",
       "      <td>2</td>\n",
       "      <td>8.0</td>\n",
       "      <td>35.33</td>\n",
       "      <td>2019-06-18</td>\n",
       "      <td>2019-07-17</td>\n",
       "      <td>31.4</td>\n",
       "      <td>29 days</td>\n",
       "      <td>2019-07-02 12:00:00</td>\n",
       "    </tr>\n",
       "    <tr>\n",
       "      <td>3</td>\n",
       "      <td>8.0</td>\n",
       "      <td>36.36</td>\n",
       "      <td>2019-08-16</td>\n",
       "      <td>2019-09-16</td>\n",
       "      <td>104.6</td>\n",
       "      <td>31 days</td>\n",
       "      <td>2019-08-31 12:00:00</td>\n",
       "    </tr>\n",
       "    <tr>\n",
       "      <td>4</td>\n",
       "      <td>10.0</td>\n",
       "      <td>34.44</td>\n",
       "      <td>2017-08-16</td>\n",
       "      <td>2017-09-14</td>\n",
       "      <td>138.8</td>\n",
       "      <td>29 days</td>\n",
       "      <td>2017-08-30 12:00:00</td>\n",
       "    </tr>\n",
       "  </tbody>\n",
       "</table>\n",
       "</div>"
      ],
      "text/plain": [
       "   USAGE   COST START_DATE   END_DATE    HDD DAYS_IN_PERIOD  \\\n",
       "0    6.0  21.07 2018-09-15 2018-09-30   89.9        15 days   \n",
       "1    8.0  34.55 2019-07-18 2019-08-15   22.0        28 days   \n",
       "2    8.0  35.33 2019-06-18 2019-07-17   31.4        29 days   \n",
       "3    8.0  36.36 2019-08-16 2019-09-16  104.6        31 days   \n",
       "4   10.0  34.44 2017-08-16 2017-09-14  138.8        29 days   \n",
       "\n",
       "          MIDDLE_DATE  \n",
       "0 2018-09-22 12:00:00  \n",
       "1 2019-08-01 00:00:00  \n",
       "2 2019-07-02 12:00:00  \n",
       "3 2019-08-31 12:00:00  \n",
       "4 2017-08-30 12:00:00  "
      ]
     },
     "execution_count": 176,
     "metadata": {},
     "output_type": "execute_result"
    }
   ],
   "source": [
    "df.head()"
   ]
  },
  {
   "cell_type": "code",
   "execution_count": 177,
   "metadata": {},
   "outputs": [
    {
     "name": "stderr",
     "output_type": "stream",
     "text": [
      "/usr/local/anaconda3/lib/python3.7/site-packages/ipykernel_launcher.py:3: FutureWarning: M and Y units are deprecated and will be removed in a future version.\n",
      "  This is separate from the ipykernel package so we can avoid doing imports until\n",
      "/usr/local/anaconda3/lib/python3.7/site-packages/ipykernel_launcher.py:4: FutureWarning: M and Y units are deprecated and will be removed in a future version.\n",
      "  after removing the cwd from sys.path.\n"
     ]
    }
   ],
   "source": [
    "def rng():\n",
    "    for yr in range(0,3):\n",
    "        start=(pd.to_datetime('10-15-2017')+pd.Timedelta(yr,'Y')).normalize()\n",
    "        end=(pd.to_datetime('05-15-2018')+pd.Timedelta(yr,'Y')).normalize()\n",
    "        yield (start,end)\n",
    "idx=pd.Series([False]*df.shape[0])\n",
    "df['HEATING_SEASON']=-1\n",
    "for x,y in list(rng()):\n",
    "    maxs = df['START_DATE'].apply(lambda z: max(x,z))\n",
    "    mins = df['END_DATE'].apply(lambda z: min(y,z))\n",
    "    df.loc[(maxs < mins),'HEATING_SEASON']=x.year\n",
    "    idx=np.logical_or(idx,(maxs < mins))\n",
    "df['IS_HEATING']=df['HEATING_SEASON'].replace(-1,np.nan).notnull()\n",
    "df['HEATING_SEASON']=df['HEATING_SEASON'].replace(-1,np.nan).fillna(method='bfill').astype(int)"
   ]
  },
  {
   "cell_type": "code",
   "execution_count": 178,
   "metadata": {},
   "outputs": [
    {
     "data": {
      "image/png": "[encoded data removed]",
      "text/plain": [
       "<Figure size 432x288 with 2 Axes>"
      ]
     },
     "metadata": {
      "needs_background": "light"
     },
     "output_type": "display_data"
    }
   ],
   "source": [
    "ax=df.set_index('MIDDLE_DATE')['USAGE'].plot()\n",
    "_=ax.set_ylabel('CCF')\n",
    "ax=df.set_index('MIDDLE_DATE')['COST'].plot(ax=ax.twinx(),color='r')\n",
    "_=ax.set_ylabel('DOLLARS')"
   ]
  },
  {
   "cell_type": "code",
   "execution_count": 179,
   "metadata": {},
   "outputs": [
    {
     "data": {
      "text/plain": [
       "count    16.000000\n",
       "mean      0.528775\n",
       "std       0.359055\n",
       "min       0.258065\n",
       "25%       0.380850\n",
       "50%       0.467186\n",
       "75%       0.521025\n",
       "max       1.785714\n",
       "dtype: float64"
      ]
     },
     "execution_count": 179,
     "metadata": {},
     "output_type": "execute_result"
    }
   ],
   "source": [
    "non_htg=df.query(\"IS_HEATING==False\")\n",
    "(non_htg['USAGE']/non_htg['DAYS_IN_PERIOD'].dt.days).describe()"
   ]
  },
  {
   "cell_type": "code",
   "execution_count": 180,
   "metadata": {},
   "outputs": [],
   "source": [
    "def json_data1():\n",
    "    for root, dirs, files in os.walk('/Users/rhl/Downloads/NEST_DATA-3/Nest/thermostats'):\n",
    "        for x in files:\n",
    "            if 'summary' in x:\n",
    "                yield os.path.join(root,x)\n",
    "usage=pd.concat([pd.read_json(x).T for x in json_data1()]).sort_index()\n",
    "def parse_json(x):\n",
    "    startTs = pd.to_datetime(x['startTs'],utc=True).tz_convert('America/New_York')\n",
    "    duration = int(x['duration'][:-1])\n",
    "    return (startTs, startTs+pd.to_timedelta(duration,'s'),duration)\n",
    "flatten = lambda l: [parse_json(item) for sublist in l for item in sublist]  \n",
    "heating_cycle=pd.DataFrame.from_records(flatten(usage['cycles'].values.tolist()),columns=['startTs','endTs','duration'])\n",
    "heating_cycle['key']=1.0\n",
    "df['key']=1.0"
   ]
  },
  {
   "cell_type": "code",
   "execution_count": 190,
   "metadata": {},
   "outputs": [],
   "source": [
    "merged = df.merge(heating_cycle,on='key',how='outer')\n",
    "merged['START_DATE']=pd.to_datetime(merged['START_DATE']).dt.tz_localize('America/New_York')\n",
    "merged['END_DATE']=pd.to_datetime(merged['END_DATE']).dt.tz_localize('America/New_York')\n",
    "merged['START_DT']=merged[['START_DATE','startTs']].max(axis=1)\n",
    "merged['END_DT']=merged[['END_DATE','endTs']].min(axis=1)\n",
    "merged = merged.query('START_DT < END_DT')"
   ]
  },
  {
   "cell_type": "code",
   "execution_count": 194,
   "metadata": {},
   "outputs": [],
   "source": [
    "heating_data = merged.groupby([x for x in df.columns if 'key' not in x])['duration'].sum().reset_index()\n",
    "heating_data['duration']=heating_data['duration']/3600"
   ]
  },
  {
   "cell_type": "code",
   "execution_count": 208,
   "metadata": {},
   "outputs": [
    {
     "data": {
      "text/html": [
       "<div>\n",
       "<style scoped>\n",
       "    .dataframe tbody tr th:only-of-type {\n",
       "        vertical-align: middle;\n",
       "    }\n",
       "\n",
       "    .dataframe tbody tr th {\n",
       "        vertical-align: top;\n",
       "    }\n",
       "\n",
       "    .dataframe thead th {\n",
       "        text-align: right;\n",
       "    }\n",
       "</style>\n",
       "<table border=\"1\" class=\"dataframe\">\n",
       "  <thead>\n",
       "    <tr style=\"text-align: right;\">\n",
       "      <th></th>\n",
       "      <th>USAGE</th>\n",
       "      <th>duration</th>\n",
       "    </tr>\n",
       "    <tr>\n",
       "      <th>HEATING_SEASON</th>\n",
       "      <th></th>\n",
       "      <th></th>\n",
       "    </tr>\n",
       "  </thead>\n",
       "  <tbody>\n",
       "    <tr>\n",
       "      <td>2017</td>\n",
       "      <td>281.0</td>\n",
       "      <td>189.001667</td>\n",
       "    </tr>\n",
       "    <tr>\n",
       "      <td>2018</td>\n",
       "      <td>1492.0</td>\n",
       "      <td>2657.550833</td>\n",
       "    </tr>\n",
       "    <tr>\n",
       "      <td>2019</td>\n",
       "      <td>876.0</td>\n",
       "      <td>1283.322500</td>\n",
       "    </tr>\n",
       "  </tbody>\n",
       "</table>\n",
       "</div>"
      ],
      "text/plain": [
       "                 USAGE     duration\n",
       "HEATING_SEASON                     \n",
       "2017             281.0   189.001667\n",
       "2018            1492.0  2657.550833\n",
       "2019             876.0  1283.322500"
      ]
     },
     "execution_count": 208,
     "metadata": {},
     "output_type": "execute_result"
    }
   ],
   "source": [
    "heating_data.query('IS_HEATING==True').groupby('HEATING_SEASON')[['USAGE','duration']].sum()"
   ]
  },
  {
   "cell_type": "code",
   "execution_count": 216,
   "metadata": {},
   "outputs": [
    {
     "data": {
      "text/plain": [
       "<matplotlib.axes._subplots.AxesSubplot at 0x1c2fb887d0>"
      ]
     },
     "execution_count": 216,
     "metadata": {},
     "output_type": "execute_result"
    },
    {
     "data": {
      "image/png": "[encoded data removed]",
      "text/plain": [
       "<Figure size 432x288 with 1 Axes>"
      ]
     },
     "metadata": {
      "needs_background": "light"
     },
     "output_type": "display_data"
    }
   ],
   "source": [
    "heating_data.sort_values(by=['START_DATE']).set_index('MIDDLE_DATE')[['USAGE','COST','duration','HDD']].plot()"
   ]
  },
  {
   "cell_type": "code",
   "execution_count": 220,
   "metadata": {},
   "outputs": [
    {
     "data": {
      "text/html": [
       "<div>\n",
       "<style scoped>\n",
       "    .dataframe tbody tr th:only-of-type {\n",
       "        vertical-align: middle;\n",
       "    }\n",
       "\n",
       "    .dataframe tbody tr th {\n",
       "        vertical-align: top;\n",
       "    }\n",
       "\n",
       "    .dataframe thead th {\n",
       "        text-align: right;\n",
       "    }\n",
       "</style>\n",
       "<table border=\"1\" class=\"dataframe\">\n",
       "  <thead>\n",
       "    <tr style=\"text-align: right;\">\n",
       "      <th></th>\n",
       "      <th>duration</th>\n",
       "      <th>HDD</th>\n",
       "    </tr>\n",
       "  </thead>\n",
       "  <tbody>\n",
       "    <tr>\n",
       "      <td>0</td>\n",
       "      <td>4.361111</td>\n",
       "      <td>89.9</td>\n",
       "    </tr>\n",
       "    <tr>\n",
       "      <td>1</td>\n",
       "      <td>0.000556</td>\n",
       "      <td>16.3</td>\n",
       "    </tr>\n",
       "    <tr>\n",
       "      <td>2</td>\n",
       "      <td>16.439444</td>\n",
       "      <td>63.6</td>\n",
       "    </tr>\n",
       "    <tr>\n",
       "      <td>3</td>\n",
       "      <td>15.995278</td>\n",
       "      <td>194.2</td>\n",
       "    </tr>\n",
       "    <tr>\n",
       "      <td>4</td>\n",
       "      <td>40.724444</td>\n",
       "      <td>273.4</td>\n",
       "    </tr>\n",
       "    <tr>\n",
       "      <td>5</td>\n",
       "      <td>58.763611</td>\n",
       "      <td>114.3</td>\n",
       "    </tr>\n",
       "    <tr>\n",
       "      <td>6</td>\n",
       "      <td>80.812778</td>\n",
       "      <td>636.4</td>\n",
       "    </tr>\n",
       "    <tr>\n",
       "      <td>7</td>\n",
       "      <td>188.401111</td>\n",
       "      <td>472.6</td>\n",
       "    </tr>\n",
       "    <tr>\n",
       "      <td>8</td>\n",
       "      <td>159.905833</td>\n",
       "      <td>382.9</td>\n",
       "    </tr>\n",
       "    <tr>\n",
       "      <td>9</td>\n",
       "      <td>220.985833</td>\n",
       "      <td>655.1</td>\n",
       "    </tr>\n",
       "    <tr>\n",
       "      <td>10</td>\n",
       "      <td>142.797222</td>\n",
       "      <td>483.3</td>\n",
       "    </tr>\n",
       "    <tr>\n",
       "      <td>11</td>\n",
       "      <td>225.894444</td>\n",
       "      <td>533.2</td>\n",
       "    </tr>\n",
       "    <tr>\n",
       "      <td>12</td>\n",
       "      <td>32.160833</td>\n",
       "      <td>841.0</td>\n",
       "    </tr>\n",
       "    <tr>\n",
       "      <td>13</td>\n",
       "      <td>348.833056</td>\n",
       "      <td>694.3</td>\n",
       "    </tr>\n",
       "    <tr>\n",
       "      <td>14</td>\n",
       "      <td>223.241389</td>\n",
       "      <td>688.9</td>\n",
       "    </tr>\n",
       "    <tr>\n",
       "      <td>15</td>\n",
       "      <td>108.188889</td>\n",
       "      <td>840.5</td>\n",
       "    </tr>\n",
       "    <tr>\n",
       "      <td>16</td>\n",
       "      <td>321.580833</td>\n",
       "      <td>816.3</td>\n",
       "    </tr>\n",
       "    <tr>\n",
       "      <td>17</td>\n",
       "      <td>324.622778</td>\n",
       "      <td>1024.4</td>\n",
       "    </tr>\n",
       "    <tr>\n",
       "      <td>18</td>\n",
       "      <td>336.861389</td>\n",
       "      <td>1203.3</td>\n",
       "    </tr>\n",
       "    <tr>\n",
       "      <td>19</td>\n",
       "      <td>414.843611</td>\n",
       "      <td>1135.7</td>\n",
       "    </tr>\n",
       "    <tr>\n",
       "      <td>20</td>\n",
       "      <td>478.366944</td>\n",
       "      <td>1034.2</td>\n",
       "    </tr>\n",
       "    <tr>\n",
       "      <td>21</td>\n",
       "      <td>522.378056</td>\n",
       "      <td>1179.9</td>\n",
       "    </tr>\n",
       "  </tbody>\n",
       "</table>\n",
       "</div>"
      ],
      "text/plain": [
       "      duration     HDD\n",
       "0     4.361111    89.9\n",
       "1     0.000556    16.3\n",
       "2    16.439444    63.6\n",
       "3    15.995278   194.2\n",
       "4    40.724444   273.4\n",
       "5    58.763611   114.3\n",
       "6    80.812778   636.4\n",
       "7   188.401111   472.6\n",
       "8   159.905833   382.9\n",
       "9   220.985833   655.1\n",
       "10  142.797222   483.3\n",
       "11  225.894444   533.2\n",
       "12   32.160833   841.0\n",
       "13  348.833056   694.3\n",
       "14  223.241389   688.9\n",
       "15  108.188889   840.5\n",
       "16  321.580833   816.3\n",
       "17  324.622778  1024.4\n",
       "18  336.861389  1203.3\n",
       "19  414.843611  1135.7\n",
       "20  478.366944  1034.2\n",
       "21  522.378056  1179.9"
      ]
     },
     "execution_count": 220,
     "metadata": {},
     "output_type": "execute_result"
    }
   ],
   "source": [
    "heating_data[['duration','HDD']]"
   ]
  },
  {
   "cell_type": "code",
   "execution_count": null,
   "metadata": {},
   "outputs": [],
   "source": []
  }
 ],
 "metadata": {
  "kernelspec": {
   "display_name": "Python 3",
   "language": "python",
   "name": "python3"
  },
  "language_info": {
   "codemirror_mode": {
    "name": "ipython",
    "version": 3
   },
   "file_extension": ".py",
   "mimetype": "text/x-python",
   "name": "python",
   "nbconvert_exporter": "python",
   "pygments_lexer": "ipython3",
   "version": "3.7.4"
  }
 },
 "nbformat": 4,
 "nbformat_minor": 1
}
